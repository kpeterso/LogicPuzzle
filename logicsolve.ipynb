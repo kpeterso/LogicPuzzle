{
 "cells": [
  {
   "cell_type": "code",
   "execution_count": 1,
   "metadata": {},
   "outputs": [],
   "source": [
    "import pycosat\n",
    "import pickle"
   ]
  },
  {
   "cell_type": "code",
   "execution_count": 2,
   "metadata": {},
   "outputs": [],
   "source": [
    "constraintDict = pickle.load(open( \"constraints.p\", \"rb\" ))"
   ]
  },
  {
   "cell_type": "code",
   "execution_count": 3,
   "metadata": {},
   "outputs": [],
   "source": [
    "class GridPuzzle:\n",
    "    def __init__(self):\n",
    "        #it is assumed that the number of variables in each dimension are equal\n",
    "        self.dimensions = -1\n",
    "        self.variableCount = 0\n",
    "        self.dimensionDict = {}\n",
    "        self.dimensionOrder = {}\n",
    "        self.dimensionList = []\n",
    "        self.variableOrder = {}\n",
    "        self.generateFlag = False\n",
    "        self.conditions = []\n",
    "        self.parsedGridStatements = []\n",
    "        self.parsedInputStatements = []\n",
    "        self.varLookup = {}\n",
    "        self.solutions = []\n",
    "    \n",
    "    def crashError(self, errorString, errorLocation):\n",
    "        print(errorString)\n",
    "        print('Error Location at '+errorLocation)\n",
    "        print('Please Restart')\n",
    "        \n",
    "    def addDimension(self, dimName, variableList):\n",
    "        \n",
    "        if self.dimensions == -1:\n",
    "            self.variableCount = len(variableList)\n",
    "        else:\n",
    "            if self.variableCount != len(variableList):\n",
    "                self.crashError('Wrong number of variables!','addDimension')\n",
    "        \n",
    "        self.dimensionList.append(dimName)\n",
    "        self.dimensionDict[dimName] = {}\n",
    "        self.dimensionDict[dimName]['variables'] = variableList\n",
    "        self.dimensions+=1\n",
    "        self.dimensionOrder[self.dimensions] = dimName\n",
    "        #self.dimensionOrder[self.dimensions]['Name'] = dimName\n",
    "        \n",
    "\n",
    "        for i,n in enumerate(variableList):\n",
    "                self.dimensionDict[dimName][n] = i*(self.variableCount**self.dimensions)        \n",
    "        \n",
    "    def printState(self):\n",
    "        print('Currently '+str(self.dimensions)+' in grid:')\n",
    "        for k,v in self.dimensionDict.items():\n",
    "            print('dimension '+k+' has')\n",
    "            print(v)\n",
    "\n",
    "    def addConditions(self, conditionStrings):\n",
    "        validOps = ['<','>','=','!']\n",
    "        for s in conditionStrings:\n",
    "            a = s.split()\n",
    "            if (len(a)==4 and a[1] not in validOps) or (len(a)==3 and a[1] not in validOps) :\n",
    "                errorString='Condition Error: '+s+' contains invalid arguement'\n",
    "                self.crashError(errorString,'addConditions')\n",
    "            self.conditions.append(s)\n",
    "        \n",
    "    def generateParsedConditions(self):\n",
    "        self.parsedGridStatements = constraintDict[self.dimensions+1][self.variableCount].copy()\n",
    "        #print(self.parsedStatements)\n",
    "        statements = self.parseConditions()\n",
    "                \n",
    "        self.parsedInputStatements = statements\n",
    "        print(self.parsedInputStatements)\n",
    "        \n",
    "        \n",
    "    def findSolutions(self):\n",
    "        #len(list(pycosat.itersolve(l)))\n",
    "        #for sol in pycosat.itersolve(l):\n",
    "        #    print(sol)\n",
    "        l = self.parsedGridStatements+self.parsedInputStatements\n",
    "        #print(l)\n",
    "        self.solutions = list(pycosat.itersolve(l))\n",
    "        solCount = len(self.solutions)\n",
    "        print('Found '+str(solCount)+' solutions')\n",
    "        \n",
    "    def parseConditions(self):\n",
    "        conditionList = []\n",
    "        #converts strings in specific formats into CNF logic statements that can be parsed by pycosat\n",
    "        #each condition must have the form variable-sign-variable or variable-(<,>)-variable-dimension, like 'a = r' or 'a ! r' or 'a > b dim'\n",
    "        #also, (a,b) and r should be variables from different dimensions\n",
    "        for i in self.conditions:\n",
    "            a = i.split()\n",
    "            if len(a) == 4:\n",
    "                #assume conditional is of the form 'a > b r' or 'a < b r'\n",
    "                #where a and b are variables from a dimension, r is a variable in another dimension\n",
    "                #The working assumption is that, when a>b, grid[a][r][...]>grid[b][r][...]\n",
    "                #make sure to reference dimensions in the correct order!\n",
    "                if a[2] == '>':\n",
    "                    conditionList+self.genGreaterThan(a[0],a[2],a[3])\n",
    "                elif i[2] == '<':\n",
    "                    conditionList+self.genGreaterThan(a[2], a[0],a[3])\n",
    "                else:\n",
    "                    errorString='Condition Error: '+i+' contains invalid arguement'\n",
    "                    self.crashError(errorString,'parseConditions1')\n",
    "            elif len(a) == 3:\n",
    "                if a[1] == '=':\n",
    "                    #assume conditional is of the form 'a = r', where a and r are variables from different dimensions\n",
    "                    #print(a[0],a[2])\n",
    "                    conditionList.append(self.genEquals(a[0],a[2]))\n",
    "                elif a[1] == '!':\n",
    "                    #assume conditional of the form 'a ! r' where a and r are variables from different dimensions\n",
    "                    conditionList+=self.genNotEquals(a[0],a[2])\n",
    "                else:\n",
    "                    errorString='Condition Error: '+i+' contains invalid arguement'\n",
    "                    self.crashError(errorString,'parseConditions2')\n",
    "            else:\n",
    "                errorString='Condition Error: '+i+' contains invalid arguement'\n",
    "                self.crashError(errorString,'parseConditions3')\n",
    "        return conditionList\n",
    "\n",
    "    def genEquals(self, a, r, var=0, level=0):\n",
    "        #recursive function\n",
    "        #loop through each dimension that a and r do not belong to\n",
    "        #add variable at each loop to constraint list\n",
    "\n",
    "        #enumerate dimensions 2, 3, and 4\n",
    "        #a recursive algorithm would work also\n",
    "\n",
    "        if level>self.dimensions:\n",
    "            #if stack depth is greater than the number of dimensions, return var back up\n",
    "            #print('Exit Condition!')\n",
    "            #print('This var is '+str(var))\n",
    "            return [var+1]\n",
    "\n",
    "        conditionList = []\n",
    "        dimension = self.dimensionOrder[level]\n",
    "        #print(dimension)\n",
    "        varList = self.dimensionDict[dimension]['variables']\n",
    "        if a in varList:\n",
    "            var+=self.dimensionDict[dimension][a]\n",
    "            conditionList+=self.genEquals(a, r, var, level+1)\n",
    "        elif r in varList:\n",
    "            var+=self.dimensionDict[dimension][r]\n",
    "            conditionList+=self.genEquals(a, r, var, level+1)\n",
    "        else:\n",
    "            #print('looping through variables in '+dimension)\n",
    "            for i in varList:\n",
    "                #print('checking variable '+i)\n",
    "                varVal = self.dimensionDict[dimension][i]\n",
    "                conditionList+=self.genEquals(a, r, var+varVal, level+1)\n",
    "        return conditionList\n",
    "                            \n",
    "    def genNotEquals(self, a, r, var=0, level=0):\n",
    "        #recursive function\n",
    "        #loop through each dimension that a and r do not belong to\n",
    "        #add variable at each loop to constraint list\n",
    "\n",
    "        #enumerate dimensions 2, 3, and 4\n",
    "        #a recursive algorithm would work also\n",
    "\n",
    "        if level>self.dimensions:\n",
    "            #if stack depth is greater than the number of dimensions, return var back up\n",
    "            #print('Exit Condition!')\n",
    "            #print('This var is '+str(var))\n",
    "            return [[-(var+1)]]\n",
    "\n",
    "        conditionList = []\n",
    "        #print(var,level)\n",
    "        dimension = self.dimensionOrder[level]\n",
    "        varList = self.dimensionDict[dimension]['variables']\n",
    "        #print(varList)\n",
    "        if a in varList:\n",
    "            #print('a matched!')\n",
    "            var+=self.dimensionDict[dimension][a]\n",
    "            #print('new var is '+str(var))\n",
    "            conditionList+=self.genNotEquals(a, r, var, level+1)\n",
    "        elif r in varList:\n",
    "            var+=self.dimensionDict[dimension][r]\n",
    "            conditionList+=self.genNotEquals(a, r, var, level+1)\n",
    "        else:\n",
    "            #print('looping through variables in '+dimension)\n",
    "            for i in varList:\n",
    "                #print('checking variable '+i)\n",
    "                varVal = self.dimensionDict[dimension][i]\n",
    "                conditionList+=self.genNotEquals(a, r, var+varVal, level+1)\n",
    "        \n",
    "        return conditionList\n",
    "    \n",
    "    def printSolution(self):\n",
    "        #prints the first solution in the solutions list\n",
    "        print(self.solutions[0])\n",
    "        variableMatches = []\n",
    "        for i in self.solutions[0]:\n",
    "            if i > 0:\n",
    "                variableMatches.append(self.decodeGridVariable(i))\n",
    "        print(variableMatches)\n",
    "        \n",
    "    def decodeGridVariable(self, n):\n",
    "        #determines the variables associated with a grid variable\n",
    "        j = n-1\n",
    "        variables = []\n",
    "        for i in range(self.dimensions, -1, -1):\n",
    "            varList = self.dimensionDict[self.dimensionOrder[i]]['variables']\n",
    "            divisor = self.variableCount**i\n",
    "            a = int(j/divisor)\n",
    "            j = j%divisor\n",
    "            variables.append(varList[a])\n",
    "        return variables"
   ]
  },
  {
   "cell_type": "code",
   "execution_count": 4,
   "metadata": {},
   "outputs": [],
   "source": [
    "grid=GridPuzzle()\n",
    "grid.addDimension('Name',['John','Mary','Scott'])\n",
    "grid.addDimension('Money',['1','2','3'])\n",
    "grid.addDimension('Place',['T','S','B'])"
   ]
  },
  {
   "cell_type": "code",
   "execution_count": 5,
   "metadata": {},
   "outputs": [
    {
     "name": "stdout",
     "output_type": "stream",
     "text": [
      "Currently 2 in grid:\n",
      "dimension Name has\n",
      "{'variables': ['John', 'Mary', 'Scott'], 'John': 0, 'Mary': 1, 'Scott': 2}\n",
      "dimension Money has\n",
      "{'variables': ['1', '2', '3'], '1': 0, '2': 3, '3': 6}\n",
      "dimension Place has\n",
      "{'variables': ['T', 'S', 'B'], 'T': 0, 'S': 9, 'B': 18}\n"
     ]
    }
   ],
   "source": [
    "grid.printState()"
   ]
  },
  {
   "cell_type": "code",
   "execution_count": 6,
   "metadata": {},
   "outputs": [],
   "source": [
    "grid.addConditions(['John = 1','Mary = 2','Scott = B','Mary ! T'])"
   ]
  },
  {
   "cell_type": "code",
   "execution_count": 7,
   "metadata": {},
   "outputs": [
    {
     "name": "stdout",
     "output_type": "stream",
     "text": [
      "[[1, 10, 19], [5, 14, 23], [21, 24, 27], [-2], [-5], [-8]]\n"
     ]
    }
   ],
   "source": [
    "grid.generateParsedConditions()"
   ]
  },
  {
   "cell_type": "code",
   "execution_count": 8,
   "metadata": {},
   "outputs": [
    {
     "name": "stdout",
     "output_type": "stream",
     "text": [
      "Found 1 solutions\n"
     ]
    }
   ],
   "source": [
    "grid.findSolutions()"
   ]
  },
  {
   "cell_type": "code",
   "execution_count": 9,
   "metadata": {},
   "outputs": [
    {
     "name": "stdout",
     "output_type": "stream",
     "text": [
      "[1, -2, -3, -4, -5, -6, -7, -8, -9, -10, -11, -12, -13, 14, -15, -16, -17, -18, -19, -20, -21, -22, -23, -24, -25, -26, 27]\n",
      "9\n",
      "0 0\n",
      "3\n",
      "0 0\n",
      "1\n",
      "0 0\n",
      "9\n",
      "13 1\n",
      "3\n",
      "4 1\n",
      "1\n",
      "1 1\n",
      "9\n",
      "26 2\n",
      "3\n",
      "8 2\n",
      "1\n",
      "2 2\n",
      "[['T', '1', 'John'], ['S', '2', 'Mary'], ['B', '3', 'Scott']]\n"
     ]
    }
   ],
   "source": [
    "grid.printSolution()"
   ]
  },
  {
   "cell_type": "code",
   "execution_count": null,
   "metadata": {},
   "outputs": [],
   "source": [
    "for i in range(4,1, -1):\n",
    "    print(i)"
   ]
  },
  {
   "cell_type": "code",
   "execution_count": null,
   "metadata": {},
   "outputs": [],
   "source": [
    "4%3"
   ]
  },
  {
   "cell_type": "code",
   "execution_count": null,
   "metadata": {},
   "outputs": [],
   "source": []
  }
 ],
 "metadata": {
  "kernelspec": {
   "display_name": "Python 3",
   "language": "python",
   "name": "python3"
  },
  "language_info": {
   "codemirror_mode": {
    "name": "ipython",
    "version": 3
   },
   "file_extension": ".py",
   "mimetype": "text/x-python",
   "name": "python",
   "nbconvert_exporter": "python",
   "pygments_lexer": "ipython3",
   "version": "3.6.5"
  }
 },
 "nbformat": 4,
 "nbformat_minor": 2
}
